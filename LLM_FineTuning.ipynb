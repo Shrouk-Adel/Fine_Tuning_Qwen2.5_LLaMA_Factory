{
  "cells": [
    {
      "cell_type": "code",
      "execution_count": null,
      "metadata": {
        "id": "A7N01LSgpIDX"
      },
      "outputs": [],
      "source": [
        "from google.colab import drive\n",
        "drive.mount('/gdrive')"
      ]
    },
    {
      "cell_type": "markdown",
      "metadata": {
        "id": "OJu7CozttUM5"
      },
      "source": [
        "## Setup"
      ]
    },
    {
      "cell_type": "code",
      "execution_count": null,
      "metadata": {
        "colab": {
          "base_uri": "https://localhost:8080/"
        },
        "id": "G0MDnCMEqPRn",
        "outputId": "ca25e7a5-1266-45da-a6fb-a57b75cb3a16"
      },
      "outputs": [
        {
          "name": "stdout",
          "output_type": "stream",
          "text": [
            "Requirement already satisfied: json-repair in /usr/local/lib/python3.11/dist-packages (0.45.1)\n"
          ]
        }
      ],
      "source": [
        "!pip install -qU transformers==4.48.3 datasets==3.2.0 optimum==1.24.0\n",
        "!pip install -qU openai==1.61.0 wandb\n",
        "!pip install json-repair\n",
        "!pip install -qU faker==35.2.0\n",
        "!pip install -qU vllm==0.7.2"
      ]
    },
    {
      "cell_type": "code",
      "execution_count": null,
      "metadata": {
        "id": "Hsn5SUVspd3K"
      },
      "outputs": [],
      "source": [
        "!git clone --depth 1 https://github.com/hiyouga/LLaMA-Factory.git\n",
        "!cd LLaMA-Factory & pip install -e \".[torch,metrics]\""
      ]
    },
    {
      "cell_type": "code",
      "execution_count": null,
      "metadata": {
        "id": "0QWdEWaZrh4Z"
      },
      "outputs": [],
      "source": [
        "from google.colab import userdata\n",
        "import wandb\n",
        "\n",
        "# Get the wandb API key from userdata\n",
        "wandb_api_key = userdata.get('wandb')\n",
        "\n",
        "# Pass the API key to the `key` parameter\n",
        "wandb.login(key=wandb_api_key)\n",
        "\n",
        "Hf_token = userdata.get('HF_Token')\n",
        "!huggingface-cli login --token {Hf_token}"
      ]
    },
    {
      "cell_type": "markdown",
      "metadata": {
        "id": "_9UsUqKwvU0D"
      },
      "source": [
        "## Imports"
      ]
    },
    {
      "cell_type": "code",
      "execution_count": null,
      "metadata": {
        "id": "7REHFhjkuUHB"
      },
      "outputs": [],
      "source": [
        "import json\n",
        "import os\n",
        "from os.path import join\n",
        "from tqdm.auto import tqdm\n",
        "import random\n",
        "import requests\n",
        "\n",
        "from pydantic import BaseModel,Field\n",
        "from typing import List,Literal,Optional\n",
        "from datetime import datetime\n",
        "\n",
        "\n",
        "import json_repair\n",
        "\n",
        "from transformers import AutoModelForCausalLM, AutoTokenizer,BitsAndBytesConfig\n",
        "import torch\n",
        "\n",
        "data_dir ='/gdrive/MyDrive/Fine-Tuning'\n",
        "base_model_Id ='Qwen/Qwen2.5-1.5B-Instruct'\n",
        "\n",
        "device='cuda'\n",
        "torch_dtype=None\n",
        "\n",
        "\n",
        "def parse_json(text):\n",
        "  try:\n",
        "    return json_repair.loads(text)\n",
        "  except:\n",
        "    return None"
      ]
    },
    {
      "cell_type": "markdown",
      "metadata": {
        "id": "QBlEklQj5UBY"
      },
      "source": [
        "## Tasks"
      ]
    },
    {
      "cell_type": "code",
      "execution_count": null,
      "metadata": {
        "id": "UCwR1gl_whJY"
      },
      "outputs": [],
      "source": [
        "story = \"\"\"\n",
        "ذكرت مجلة فوربس أن العائلة تلعب دورا محوريا في تشكيل علاقة الأفراد بالمال،\n",
        " حيث تتأثر هذه العلاقة بأنماط السلوك المالي المتوارثة عبر الأجيال.\n",
        "\n",
        "التقرير الذي يستند إلى أبحاث الأستاذ الجامعي شاين إنيت حول\n",
        "الرفاه المالي يوضح أن لكل شخص \"شخصية مالية\" تتحدد وفقا لطريقة\n",
        " تفاعله مع المال، والتي تتأثر بشكل مباشر بتربية الأسرة وتجارب الطفولة.\n",
        "\n",
        " الأبعاد الثلاثة للعلاقة بالمال\n",
        "بحسب الدراسة، هناك ثلاثة أبعاد رئيسية تشكّل علاقتنا بالمال:\n",
        "\n",
        "الاكتساب (A): يميل الأفراد الذين ينتمون لهذا\n",
        " البعد إلى اعتبار المال سلعة قابلة للجمع، حيث يرون\n",
        "في تحقيق الثروة هدفا بحد ذاته. والجانب السلبي لهذا\n",
        " النمط هو إمكانية التحول إلى هوس بالثروة أو العكس،\n",
        " أي رفض تام لاكتساب المال باعتباره مصدرا للفساد.\n",
        "\n",
        "الاستخدام (U): يرى هؤلاء الأشخاص المال أداة للتمتع بالحياة، حيث يربطون قيمته بقدرته على توفير\n",
        "المتعة والراحة. ومع ذلك، قد يصبح\n",
        "البعض مدمنا على الإنفاق، في حين يتجه آخرون إلى التقشف المفرط خوفا من المستقبل.\n",
        "\n",
        "الإدارة (M): أصحاب هذا النمط يعتبرون المال مسؤولية تتطلب التخطيط الدقيق. لكن في بعض الحالات،\n",
        " قد يتحول الأمر إلى هوس مفرط بإدارة الإنفاق، مما يؤثر سلبا على العلاقات الشخصية.\n",
        "\n",
        " كيف تؤثر العائلة على علاقتنا بالمال؟\n",
        "يشير التقرير إلى أن التجارب الأسرية تلعب دورا رئيسيا في تحديد\n",
        " \"الشخصية المالية\" لكل فرد، على سبيل المثال، إذا كان أحد الوالدين يعتمد على المال\n",
        "كمكافأة للسلوك الجيد، فقد يتبنى الطفل لاحقا النمط نفسه في حياته البالغة.\n",
        "\n",
        "لتحليل هذه التأثيرات بشكل دقيق، طورت رابطة العلاج المالي\n",
        "(Financial Therapy Association) أداة تسمى مخطط الجينوم المالي (Money Genogram)،\n",
        "وهو نموذج يُستخدم لتحديد الأنماط المالية داخل العائلة.\n",
        "\n",
        "تتضمن هذه الأداة:\n",
        "\n",
        "رسم شجرة عائلية.\n",
        "تصنيف أفراد العائلة وفقا للأبعاد الثلاثة للعلاقة بالمال (A ،U ،M).\n",
        "تحديد ما إذا كان السلوك المالي لكل فرد صحيا (+) أو غير صحي (-).\n",
        "على سبيل المثال، إذا نشأ شخص في عائلة\n",
        "اعتادت على الإنفاق المفرط، فقد يكون لديه ميل قوي إلى اتباع النمط نفسه،\n",
        " أو العكس تماما، حيث يصبح مقتصدا بشكل مبالغ فيه كرد فعل نفسي.\n",
        "\"\"\""
      ]
    },
    {
      "cell_type": "markdown",
      "metadata": {
        "id": "A52Coqkr6YSj"
      },
      "source": [
        "### Details Extraction"
      ]
    },
    {
      "cell_type": "code",
      "execution_count": null,
      "metadata": {
        "id": "m9GXGvY66W85"
      },
      "outputs": [],
      "source": [
        "# build schema for sturctured output\n",
        "# {\n",
        "#     'stroy_title':' ',\n",
        "#     'story_keywords':['kw1','kw2',....],\n",
        "#     'story_summary':[' ',,,,,,,' '],\n",
        "#     'story_category':[]\n",
        "#     'story_entity':{\n",
        "#            'entity_value':'القاهرة',\n",
        "#            'entity_type':'place'\n",
        "#             }\n",
        "# }\n",
        "\n",
        "Entity_type = Literal['person-male','person-female','place','money','product','location','envent','time','law','quantity'\n",
        "                       'artifact','organization','disease']\n",
        "\n",
        "Categories =Literal['Politics','Arts','Health','Technology','Sports','Economy','Science','Entertainment','not-specified']\n",
        "\n",
        "class Entity(BaseModel):\n",
        "  entity_value:str =Field(...,Description='the actual name or value of the entity')\n",
        "  entity_type:Entity_type =Field(...,Description='Type of recognized entity')\n",
        "\n",
        "class NewsDetails(BaseModel):\n",
        "  story_title:str =Field(...,min_length=5,max_length=300,\n",
        "                         Description='A fully informative and SEO Optimize title for the story')\n",
        "\n",
        "  story_keywords :List[str] =Field(...,min_items=1,Description ='Relevant keywords related to story')\n",
        "\n",
        "  story_summary :List[str] =Field(...,min_items=1,max_items = 5,Description ='summarized key points about story points (1-5)')\n",
        "\n",
        "  story_category :Categories =Field(..., Description ='Category of the news story')\n",
        "\n",
        "  story_entity:List[Entity]=Field(...,min_items=1 , max_items=10 , Description ='List of identified entities in the story')\n",
        "\n"
      ]
    },
    {
      "cell_type": "code",
      "execution_count": null,
      "metadata": {
        "id": "v_xk6i_9qF2P"
      },
      "outputs": [],
      "source": [
        "Details_extraction_messages=[\n",
        "    {\n",
        "        'role':'system',\n",
        "        'content':'\\n'.join([\n",
        "            'you are NLP data parser',\n",
        "            'generate the output in the same story language',\n",
        "            'Extract details as mentioned as text',\n",
        "            'Do not generate any introduction or conclusion',\n",
        "            'you have to extract json details from text according to the pydantic details',\n",
        "        ])\n",
        "    },{\n",
        "        'role':'user',\n",
        "        'content':'\\n'.join([\n",
        "            '## Story:',\n",
        "            story.strip(),\n",
        "            '',\n",
        "\n",
        "            'the pydantic details:',\n",
        "            json.dumps(\n",
        "                NewsDetails.model_json_schema(),ensure_ascii=False\n",
        "                )\n",
        "        ])\n",
        "    }\n",
        "]"
      ]
    },
    {
      "cell_type": "markdown",
      "metadata": {
        "id": "UF1gXH_z4o1B"
      },
      "source": [
        "### Model"
      ]
    },
    {
      "cell_type": "code",
      "execution_count": null,
      "metadata": {
        "id": "Si0IMjNMydxw"
      },
      "outputs": [],
      "source": [
        "model = AutoModelForCausalLM.from_pretrained(\n",
        "    base_model_Id,\n",
        "    device_map='auto',\n",
        "    torch_dtype=torch_dtype\n",
        "\n",
        ")\n",
        "tokenizer = AutoTokenizer.from_pretrained(\"Qwen/Qwen2.5-1.5B-Instruct\")"
      ]
    },
    {
      "cell_type": "code",
      "execution_count": null,
      "metadata": {
        "id": "FcZ5mAvV0QfR"
      },
      "outputs": [],
      "source": [
        "def generate_response(message):\n",
        "  text = tokenizer.apply_chat_template(\n",
        "      message,\n",
        "      tokenize=False,\n",
        "      add_generation_prompt=True\n",
        "  )\n",
        "\n",
        "  model_inputs = tokenizer([text], return_tensors=\"pt\").to(model.device)\n",
        "\n",
        "  generated_ids = model.generate(\n",
        "      **model_inputs,\n",
        "      max_new_tokens=512\n",
        "  )\n",
        "  generated_ids = [\n",
        "      output_ids[len(input_ids):] for input_ids, output_ids in zip(model_inputs.input_ids, generated_ids)\n",
        "  ]\n",
        "\n",
        "  response = tokenizer.batch_decode(generated_ids, skip_special_tokens=True)[0]\n",
        "\n",
        "  return response\n",
        "\n",
        "response =generate_response(Details_extraction_messages)"
      ]
    },
    {
      "cell_type": "code",
      "execution_count": null,
      "metadata": {
        "colab": {
          "base_uri": "https://localhost:8080/"
        },
        "id": "VgCfrRQe5AOF",
        "outputId": "d117f2b4-fa9f-45ad-f60d-c5c95ab6fe16"
      },
      "outputs": [
        {
          "name": "stdout",
          "output_type": "stream",
          "text": [
            "{\n",
            "  \"story_title\": \"The Role of Family in Financial Relationships\",\n",
            "  \"story_keywords\": [\n",
            "    \"financial relationships\",\n",
            "    \"family influence\",\n",
            "    \"moneymaking\",\n",
            "    \"wealth management\",\n",
            "    \"child development\"\n",
            "  ],\n",
            "  \"story_summary\": [\n",
            "    \"Forbes reported that family plays a crucial role in shaping individuals' financial relationships.\",\n",
            "    \"The relationship between individuals and money is influenced by inherited behavioral patterns across generations.\"\n",
            "  ],\n",
            "  \"story_category\": \"Economy\",\n",
            "  \"story_entity\": [\n",
            "    {\n",
            "      \"$ref\": \"#/$defs/Entity\",\n",
            "      \"entity_value\": \"Forbes\",\n",
            "      \"entity_type\": \"Organization\"\n",
            "    },\n",
            "    {\n",
            "      \"$ref\": \"#/$defs/Entity\",\n",
            "      \"entity_value\": \"Shain Entine\",\n",
            "      \"entity_type\": \"Person-Female\"\n",
            "    },\n",
            "    {\n",
            "      \"$ref\": \"#/$defs/Entity\",\n",
            "      \"entity_value\": \"Financial Therapy Association\",\n",
            "      \"entity_type\": \"Organization\"\n",
            "    }\n",
            "  ]\n",
            "}\n"
          ]
        }
      ],
      "source": [
        "print(response)"
      ]
    },
    {
      "cell_type": "markdown",
      "metadata": {
        "id": "0GgWtqNn6gYv"
      },
      "source": [
        "### Translation"
      ]
    },
    {
      "cell_type": "code",
      "execution_count": null,
      "metadata": {
        "id": "YIfNF0_J5IuY"
      },
      "outputs": [],
      "source": [
        "# {\n",
        "#     'translation_title':' ',\n",
        "#     'translation_content':''\n",
        "# }\n",
        "\n",
        "class TranslatedStory(BaseModel):\n",
        "  translation_titl:str =Field(...,min_length =5,Description ='genrate title for the translated story')\n",
        "  translation_content:str =Field(...,min_lenght =5,Desciption ='Tranlated Content for the new Story ')\n",
        "\n",
        "\n",
        "target_language='English'\n",
        "translation_messages=[\n",
        "    {\n",
        "\n",
        "        'role':'system',\n",
        "        'content':'\\n'.join([\n",
        "            'you are a professional translator',\n",
        "            'translate story for the target language',\n",
        "            'do not generate any introduction or conclusion',\n",
        "            'follow the provided schema to generate json'\n",
        "        ])\n",
        "    },\n",
        "    {\n",
        "        'role':'user',\n",
        "        'content':'\\n'.join([\n",
        "            '## Story:',\n",
        "            story.strip(),\n",
        "            '',\n",
        "\n",
        "            'the pydantic details:',\n",
        "            json.dumps(\n",
        "                TranslatedStory.model_json_schema(),ensure_ascii=False\n",
        "                ),\n",
        "            '',\n",
        "\n",
        "            'Target language:',\n",
        "             target_language,\n",
        "        ])\n",
        "    }\n",
        "]\n"
      ]
    },
    {
      "cell_type": "code",
      "execution_count": null,
      "metadata": {
        "id": "Wxulh3Yt9-PF"
      },
      "outputs": [],
      "source": [
        "response =generate_response(translation_messages)"
      ]
    },
    {
      "cell_type": "code",
      "execution_count": null,
      "metadata": {
        "colab": {
          "base_uri": "https://localhost:8080/"
        },
        "id": "drTMYAJt-hq0",
        "outputId": "87978ef9-6ac1-466e-8cc8-1690b3e6a94d"
      },
      "outputs": [
        {
          "name": "stdout",
          "output_type": "stream",
          "text": [
            "```json\n",
            "{\n",
            "  \"translation_titl\": \"Family Influence on Financial Relationships\",\n",
            "  \"translation_content\": \"Forbes magazine reported that the family plays a crucial role in shaping individuals' relationships with money, influenced by inherited financial behaviors across generations.\"\n",
            "}\n",
            "```\n"
          ]
        }
      ],
      "source": [
        "print(response)"
      ]
    },
    {
      "cell_type": "code",
      "execution_count": null,
      "metadata": {
        "colab": {
          "base_uri": "https://localhost:8080/"
        },
        "id": "iI4GO3C9ZsXl",
        "outputId": "b7a2d410-11be-4e40-c990-6714b7c9c4b9"
      },
      "outputs": [
        {
          "data": {
            "text/plain": [
              "{'translation_titl': 'Family Influence on Financial Relationships',\n",
              " 'translation_content': \"Forbes magazine reported that the family plays a crucial role in shaping individuals' relationships with money, influenced by inherited financial behaviors across generations.\"}"
            ]
          },
          "execution_count": 17,
          "metadata": {},
          "output_type": "execute_result"
        }
      ],
      "source": [
        "json_repair.loads(response)"
      ]
    },
    {
      "cell_type": "markdown",
      "metadata": {
        "id": "UtH63PKwrtah"
      },
      "source": [
        "## Evaluation DeepSeek-r1"
      ]
    },
    {
      "cell_type": "code",
      "execution_count": null,
      "metadata": {
        "colab": {
          "base_uri": "https://localhost:8080/"
        },
        "id": "yYsPNGTEryx2",
        "outputId": "28f0ceca-fb8f-4f96-ce1c-c866492c0f0b"
      },
      "outputs": [
        {
          "name": "stdout",
          "output_type": "stream",
          "text": [
            "```json\n",
            "{\n",
            "  \"story_title\": \"دور العائلة في تشكيل العلاقة بالمال: الأبعاد الثلاثة وتأثيرها على الشخصية المالية\",\n",
            "  \"story_keywords\": [\n",
            "    \"العائلة\",\n",
            "    \"الشخصية المالية\",\n",
            "    \"فوربس\",\n",
            "    \"الأبعاد المالية\",\n",
            "    \"رابطة العلاج المالي\",\n",
            "    \"مخطط الجينوم المالي\"\n",
            "  ],\n",
            "  \"story_summary\": [\n",
            "    \"تأثير العائلة على أنماط السلوك المالي عبر الأجيال وفقًا لدراسات شاين إنيت\",\n",
            "    \"ثلاثة أبعاد للعلاقة بالمال: الاكتساب (A)، الاستخدام (U)، الإدارة (M)\",\n",
            "    \"ارتباط السلوك المالي بتجارب الطفولة مثل استخدام المال كمكافأة أو الإنفاق المفرط\",\n",
            "    \"دور أداة مخطط الجينوم المالي في تحليل الأنماط المالية العائلية\",\n",
            "    \"إمكانية تحوّل الأنماط المالية إلى سلوكيات غير صحية كالهوس بالثروة أو التقشف المفرط\"\n",
            "  ],\n",
            "  \"story_category\": \"Economy\",\n",
            "  \"story_entity\": [\n",
            "    {\n",
            "      \"entity_value\": \"فوربس\",\n",
            "      \"entity_type\": \"organization\"\n",
            "    },\n",
            "    {\n",
            "      \"entity_value\": \"شاين إنيت\",\n",
            "      \"entity_type\": \"person-male\"\n",
            "    },\n",
            "    {\n",
            "      \"entity_value\": \"رابطة العلاج المالي\",\n",
            "      \"entity_type\": \"organization\"\n",
            "    },\n",
            "    {\n",
            "      \"entity_value\": \"مخطط الجينوم المالي\",\n",
            "      \"entity_type\": \"quantityartifact\"\n",
            "    }\n",
            "  ]\n",
            "}\n",
            "```\n"
          ]
        }
      ],
      "source": [
        "from google.colab import userdata\n",
        "from openai import OpenAI\n",
        "\n",
        "OpenRouter_api_key =userdata.get('open_router').strip()\n",
        "\n",
        "client = OpenAI(\n",
        "  base_url=\"https://openrouter.ai/api/v1\",\n",
        "  api_key=OpenRouter_api_key,\n",
        ")\n",
        "\n",
        "completion = client.chat.completions.create(\n",
        "\n",
        "  model=\"deepseek/deepseek-r1:free\",\n",
        "  messages= Details_extraction_messages,\n",
        "  temperature=0.2,\n",
        ")\n",
        "print(completion.choices[0].message.content)"
      ]
    },
    {
      "cell_type": "code",
      "execution_count": null,
      "metadata": {
        "colab": {
          "base_uri": "https://localhost:8080/"
        },
        "id": "BAdeWhYrxoge",
        "outputId": "b02419b0-a169-4a26-fa95-f6896ed31bbd"
      },
      "outputs": [
        {
          "name": "stdout",
          "output_type": "stream",
          "text": [
            "```json\n",
            "{\n",
            "  \"translation_titl\": \"Forbes Reports: How Family Shapes Our Financial Relationships and Behaviors\",\n",
            "  \"translation_content\": \"Forbes magazine highlighted the pivotal role families play in shaping individuals’ relationships with money, noting that these relationships are influenced by financial behavior patterns inherited across generations.\\n\\nThe report, based on research by Professor Shane Enitt on financial well-being, explains that everyone has a \\\"financial personality\\\" determined by their interaction with money. This personality is directly influenced by family upbringing and childhood experiences.\\n\\n**The Three Dimensions of Financial Relationships**\\nAccording to the study, three key dimensions shape our relationship with money:\\n\\n1. **Acquisition (A):** Individuals in this category view money as a collectible commodity, seeing wealth accumulation as an end goal. The downside includes risks of developing an obsession with wealth or, conversely, outright rejection of money as a corrupting force.\\n\\n2. **Use (U):** These individuals see money as a tool for enjoying life, valuing it for its ability to provide comfort and pleasure. However, some may develop spending addictions, while others adopt extreme frugality due to fear of the future.\\n\\n3. **Management (M):** This group views money as a responsibility requiring careful planning. In extreme cases, it can lead to obsessive budgeting, negatively impacting personal relationships.\\n\\n**How Family Influences Financial Behavior**\\nThe report emphasizes that family experiences play a key role in defining an individual’s financial personality. For example, if a parent uses money as a reward for good behavior, the child may adopt similar patterns in adulthood.\\n\\nTo analyze these influences, the Financial Therapy Association developed the *Money Genogram* tool, which maps financial patterns within families. The tool includes:\\n\\n- A family tree diagram.\\n- Categorizing family members based on the three financial dimensions (A, U, M).\\n- Labeling each individual’s financial behavior as healthy (+) or unhealthy (-).\\n\\nFor instance, someone raised in a family with a history of overspending may either adopt the same habits or react by becoming excessively frugal as a psychological response.\"\n",
            "}\n",
            "```\n"
          ]
        }
      ],
      "source": [
        "completion_t = client.chat.completions.create(\n",
        "\n",
        "  model=\"deepseek/deepseek-r1:free\",\n",
        "  messages= translation_messages,\n",
        "  temperature=0.2,\n",
        ")\n",
        "print(completion_t.choices[0].message.content)"
      ]
    },
    {
      "cell_type": "code",
      "execution_count": null,
      "metadata": {
        "colab": {
          "base_uri": "https://localhost:8080/"
        },
        "id": "Aa5f5tknZnOB",
        "outputId": "d626bb00-a18a-4a67-b35e-2093febf7fb4"
      },
      "outputs": [
        {
          "data": {
            "text/plain": [
              "str"
            ]
          },
          "execution_count": 20,
          "metadata": {},
          "output_type": "execute_result"
        }
      ],
      "source": [
        "result=completion.choices[0].message.content\n",
        "type(result)"
      ]
    },
    {
      "cell_type": "code",
      "execution_count": null,
      "metadata": {
        "colab": {
          "base_uri": "https://localhost:8080/"
        },
        "id": "kA-67u1jmOBx",
        "outputId": "97338a04-7307-4b25-abbb-5d578721df63"
      },
      "outputs": [
        {
          "data": {
            "text/plain": [
              "{'story_title': 'دور العائلة في تشكيل العلاقة بالمال: الأبعاد الثلاثة وتأثيرها على الشخصية المالية',\n",
              " 'story_keywords': ['العائلة',\n",
              "  'الشخصية المالية',\n",
              "  'فوربس',\n",
              "  'الأبعاد المالية',\n",
              "  'رابطة العلاج المالي',\n",
              "  'مخطط الجينوم المالي'],\n",
              " 'story_summary': ['تأثير العائلة على أنماط السلوك المالي عبر الأجيال وفقًا لدراسات شاين إنيت',\n",
              "  'ثلاثة أبعاد للعلاقة بالمال: الاكتساب (A)، الاستخدام (U)، الإدارة (M)',\n",
              "  'ارتباط السلوك المالي بتجارب الطفولة مثل استخدام المال كمكافأة أو الإنفاق المفرط',\n",
              "  'دور أداة مخطط الجينوم المالي في تحليل الأنماط المالية العائلية',\n",
              "  'إمكانية تحوّل الأنماط المالية إلى سلوكيات غير صحية كالهوس بالثروة أو التقشف المفرط'],\n",
              " 'story_category': 'Economy',\n",
              " 'story_entity': [{'entity_value': 'فوربس', 'entity_type': 'organization'},\n",
              "  {'entity_value': 'شاين إنيت', 'entity_type': 'person-male'},\n",
              "  {'entity_value': 'رابطة العلاج المالي', 'entity_type': 'organization'},\n",
              "  {'entity_value': 'مخطط الجينوم المالي', 'entity_type': 'quantityartifact'}]}"
            ]
          },
          "execution_count": 21,
          "metadata": {},
          "output_type": "execute_result"
        }
      ],
      "source": [
        "json_repair.loads(result)"
      ]
    },
    {
      "cell_type": "markdown",
      "metadata": {
        "id": "aNCGnEmLdNp7"
      },
      "source": [
        "### knowledge Distillation"
      ]
    },
    {
      "cell_type": "code",
      "execution_count": null,
      "metadata": {
        "colab": {
          "base_uri": "https://localhost:8080/"
        },
        "id": "Va0q-O0i-jmE",
        "outputId": "cdaea9df-44ef-4108-cb98-d123e959eaa3"
      },
      "outputs": [
        {
          "name": "stdout",
          "output_type": "stream",
          "text": [
            "Raw Data: 2400\n"
          ]
        }
      ],
      "source": [
        "raw_data_paths =join(data_dir,'Datasets','news-sample.jsonl')\n",
        "\n",
        "raw_data =[]\n",
        "for line in open(raw_data_paths):\n",
        "  if line.strip()=='':\n",
        "    continue\n",
        "\n",
        "  raw_data.append(json.loads(line.strip()))\n",
        "\n",
        "# shuffle data\n",
        "random.Random(101).shuffle(raw_data)\n",
        "print(f'Raw Data: {len(raw_data)}')"
      ]
    },
    {
      "cell_type": "code",
      "execution_count": null,
      "metadata": {
        "id": "TgE6Faymt21d"
      },
      "outputs": [],
      "source": [
        "# from google.colab import drive\n",
        "# drive.mount('/content/drive')"
      ]
    },
    {
      "cell_type": "code",
      "execution_count": null,
      "metadata": {
        "colab": {
          "base_uri": "https://localhost:8080/"
        },
        "id": "rVxTFFSwnkAn",
        "outputId": "4c8ebe41-8772-4520-f186-2b502e3a1edd"
      },
      "outputs": [
        {
          "name": "stdout",
          "output_type": "stream",
          "text": [
            "يواصل المعهد العربي في باريس استقبال زواره في معرض ما تقدمه فلسطين للعالم لإطلاعهم على الإرث الثقافي والفني للفلسطينيين؛ من خلال أعمال فنية لآمالهم وصور لواقعهم الأليم تحت الاحتلال. \n",
            " ويرى رئيس المعهد جاك لانغ -الذي أُعيد انتخابه قبل أيام للدورة الرابعة- ما يحدث في غزة حاليا جراء العدوان الإسرائيلي أنه كارثة. \n",
            " والمعهد هو مركز ثقافي وواجهة دبلوماسية يديرها لانغ منذ 2013 ويقع على ضفة نهر السين في باريس. \n",
            " وأشار لانغ، الذي شغل سابقا منصب وزير الثقافة بفرنسا، إلى أن المعرض هو إهداء للشعب الفلسطيني، ومُدّد ليستقبل مزيدا من الزوار حتى 31 ديسمبركانون الأول الجاري. \n",
            " ويضم المعرض، الذي افتُتح أواخر مايوأيار الماضي، حسب لانغ العديد من المعارض الفرعية عن فلسطين وعن غزة بالتحديد، من بينها معرض الصور اليومية عن الحياة في غزة. \n",
            " كما يشتمل على معرض الصور الفوتوكرومية القائم على تلوين صور من فلسطين تعود للقرن الـ19. \n",
            " ويعرض الفنان الفلسطيني محمد أبو سل عملا فريدا بعنوان مترو غزة، وهو عبارة عن عمل تركيبي متعدد الوسائط، لاقى إعجابا من الزوار. \n",
            " ويحضر الشاعر الفلسطيني الراحل محمود درويش من خلال أشعاره في أروقة المعرض، إلى جانب الكاتب والشاعر الفرنسي الملقب بعاشق فلسطين جان جينيه. \n",
            " ومن الأعمال التي لاقت إعجاب الزوار عمل فني بعنوان بيوت غزة 2008-2009 عرضت فيه صور منازل في القطاع تدمرت بفعل القصف الإسرائيلي على غزة في 2008 و2009. \n",
            " وقال لانغ لوكالة الأناضول أريد من المعرض أن يظهر الغنى الثقافي والإبداع لدى الشعب الفلسطيني من جميع النواحي. \n",
            " وأشار إلى أن اسم الشعب الفلسطيني اقترن بالحرب ومن النادر أن يُسلط الضوء على ثقافته وفنه. \n",
            " ويضم المعرض -أيضا- المتحف الفلسطيني في المنفى وأسس بالتعاون مع المؤرخ، سفير فلسطين الأسبق لدى اليونسكو إلياس صنبر. \n",
            " ويضم تحفا تُبرع بها للمتحف لمدة 5 سنوات بإشراف المعهد العربي، وقال لانغ تعليقا على هذا المتحف نأمل أن نتمكن يوما ما من عرض هذا المتحف في القدس. \n",
            " وبيّن لانغ أن المعرض حظي باهتمام كبير من الفرنسيين لا سيما الشباب، قائلا أريد التعريف أكثر بفلسطين، ثمة كثير من المعلومات المغلوطة حيال القضية الفلسطينية. \n",
            " وأضاف رئيس المعهد العربي دُمّر العديد من المنازل والأحياء في غزة المعروضة صورها في المعرض. \n",
            " وختم بالقول أعتقد أن وجود هذه الصور والأعمال هنا أمر جيد من أجل إبقاء الأمل لدى فناني غزة. \n",
            " وكان المعهد قد أصدر كتابا جماعيا قبل شهور قليلة بعنوان ما تقدمه فلسطين للعالم، وصدر باللغة الفرنسية ضمن السلسلة الدورية عربوراما بالاشتراك مع دار النشر الفرنسية سوي Seuil. \n",
            " ضم الكتاب مجموعة من المقالات الصحفية والدراسات الفكرية والبحوث الاجتماعية والقصائد الشعرية والصور والخرائط التوضيحية والرسومات الفنية واللوحات التشكيلية، لنخبة متميزة من الصحفيين والمفكرين والكتاب والشعراء والفنانين والرسامين والمؤرخين والباحثين العرب والأوروبيين، التي تتغنى كلها بحب سيدة الأرض فلسطين، وتحاول أن ترسم لها بالحرف والريشة صورة تتراوح بين الحلم والواقع. \n",
            " والكتاب القيّم أسهم فيه 50 مبدعا على غرار المثقف والكاتب إلياس صنبر، والكاتبة وسفيرة فلسطين السابقة لدى اليونسكو ليلى شهيد، والمفكر والكاتب والصحفي الفرنسي المعروف آلان غريش، والكاتب والشاعر عبد اللطيف اللعبي، والفنانة التشكيلية أصالة شوك صاحبة الغلاف المميز للكتاب. \n",
            " يحاول الكتاب أن يحفر أركيولوجيا وتاريخيا وأنثروبولوجيا وأدبيا وفنيا في مسار وطن تحوّل إلى رمز، وفكرة تحولت إلى قضية، وقضية توحّدت بشعب، وشعب فاض عن الأرض وتاه في المنفى والشتات والكون، باحثا عن صورة واقعية مطابقة لوطنه الأم المسلوب والمحاصر، فوجد نفسه في رحلة بحثه عن حق وحلم ومفتاح العودة يفتح أبوابا جديدة، ويكتشف قارات فكر بكر، ويخلق أوطانا وليدة في روحه وقلبه المتنصل من المكان والزمان والانتماء، استحضارا لصرخة الشاعر الرمز محمود درويش كل قلوب الناس جنسيتي.. فلتسقطوا عني جواز السفر. \n",
            " يقول الكاتب كريستوف عياد في مقدمة الكتاب في الوقت الذي تبدو فيه فلسطين مهجورة من الجميع، بدءا من الدول العربية، اخترنا العودة إليها بطبيعة الحال للتحدث عن شعبها المشتت بسبب التاريخ والحدود. وأردنا مسح أراضيها المقسمة بين غزة والضفة الغربية على أن تكون القدس مركزا لا يمكن تعقبه. هذه الأراضي التي ضمها الاحتلال الإسرائيلي وابتلعها جدار الفصل العنصري. بعد أن أصبحت رمزا للاستعمار في عالم يمر بعملية إنهاء الاستعمار في النصف الثاني من القرن الـ20، فإن فلسطين لا تنتمي إلى نفسها. إنها قضية ومصدر إلهام للعالم كله. الكوفية علم الثوار في العالم، والفلسطيني لم يعد مجرد جنسية من دون دولة، بل هو رمز الرفض والانصياع والمقاومة. \n",
            " من جانبه أشار جاك لانغ رئيس معهد العالم العربي بباريس إلى أن المعهد أراد من خلال هذا الكتاب الجماعي تقديم صورة إيجابية عن فلسطين؛ لأنه كثيرا ما يختصر الشعب الفلسطيني في النضال وفي المعاناة والحصار، ولكن يُتغافل عن الجانب الإبداعي الثقافي لهذا الشعب الذي يقدم الأفكار الجديدة المتميزة والإبداعات المتفردة إلى العالم. \n",
            " وأشار لانغ -في حديثه السابق للجزيرة نت- إلى أن المعهد أراد أن يقدم هذا الإرث الثقافي المتميز في أبهى صورة إلى القراء، خاصة وهو يحمل قيمة كبيرة للثقافة العالمية، ومن هنا جاء عنوان الكتاب ما تقدمه فلسطين للعالم كشكل من أشكال الاعتراف بإبداعات الشعب الفلسطيني، وإضافاته الكبيرة إلى الثقافة العربية والإنسانية. \n",
            " وأضاف الوضعية المعقدة والظلم الذي يعيشه الشعب الفلسطيني ليس وليد اليوم، وإنما هو نتيجة تراكمات تاريخية طويلة ومنذ عقود. وما يبعث على الحيرة والأسف في الوقت نفسه أننا لاحظنا هذا النسيان الدولي الذي تتعرض له القضية الفلسطينية العادلة، حتى من بعض الدول العربية نفسها. ومن هنا جاء هذا الكتاب، حتى نذكّر بهذه القضية وما يعيشه الشعب الفلسطيني من ظلم ونسيان، ونعيدها إلى مركز الأحداث والاهتمام الدولي. \n",
            " وأشار إلى أن هذا الكتاب يحمل رسالة إلى المجتمع الدولي عن ضرورة الاعتراف بالحقوق المشروعة للشعب الفلسطيني، وأولها الحق في قيام دولة فلسطينية مستقلة. وشدد على أن المجتمع الدولي منقسم اليوم بخصوص القضية الفلسطينية، ولذلك جاء الكتاب بوصفه نوعا من الموقف والصرخة في وجه هذه المواقف المشتتة، وفي وجه الظلم الذي يتعرض له هذا الشعب، وهي صرخة تدعو المجتمع الدولي لضرورة عدم نسيان هذا الشعب المثقف المبدع والمناضل بالأفكار الأصيلة.\n"
          ]
        }
      ],
      "source": [
        "print(raw_data[0]['content'])"
      ]
    },
    {
      "cell_type": "code",
      "execution_count": null,
      "metadata": {
        "id": "eE2a83-HCud9"
      },
      "outputs": [],
      "source": [
        "import time\n",
        "\n",
        "cloud_model_Id=\"deepseek/deepseek-r1:free\"\n",
        "\n",
        "price_per_1m_input_tokens = 0.29\n",
        "price_per_1m_output_tokens = 0.39\n",
        "\n",
        "\n",
        "prompt_tokens =0 # calculate input tokens\n",
        "completion_tokesn=0 # calculate consumption tokens\n",
        "ix=0\n",
        "\n",
        "save_to=join(data_dir,'Datasets','sft.jsonl')\n",
        "\n",
        "for story in tqdm(raw_data):\n",
        "    sample_Details_extraction_messages=[\n",
        "        {\n",
        "            'role':'system',\n",
        "            'content':'\\n'.join([\n",
        "                'you are NLP data parser',\n",
        "                'generate the output in the same story language',\n",
        "                'Extract details as mentioned as text',\n",
        "                'Do not generate any introduction or conclusion',\n",
        "                'you have to extract json details from text according to the pydantic details'\n",
        "            ])\n",
        "        },{\n",
        "            'role':'user',\n",
        "            'content':'\\n'.join([\n",
        "                '## Story:',\n",
        "                story['content'].strip(),\n",
        "                '',\n",
        "\n",
        "                'the pydantic details:',\n",
        "                json.dumps(\n",
        "                    NewsDetails.model_json_schema(),ensure_ascii=False\n",
        "                    ),\n",
        "                '',\n",
        "\n",
        "                'Story Details:',\n",
        "                '```json'\n",
        "            ])\n",
        "        }\n",
        "    ]\n",
        "\n",
        "    response = client.chat.completions.create(\n",
        "      model=cloud_model_Id,\n",
        "      messages=sample_Details_extraction_messages,\n",
        "      temperature=0.2,\n",
        "\n",
        "      )\n",
        "\n",
        "    if response.choices[0].finish_reason !='stop':\n",
        "      prompt_tokens += response.usage.prompt_tokens\n",
        "      continue\n",
        "\n",
        "    llm_response= response.choices[0].message.content\n",
        "    llm_resp_dic =parse_json(llm_response)\n",
        "\n",
        "    if llm_resp_dic is None:\n",
        "      continue\n",
        "\n",
        "    with open(save_to,'a',encoding='utf-8') as dest:\n",
        "      dest.write(json.dumps({\n",
        "            \"id\": ix,\n",
        "            \"story\": story['content'].strip(),\n",
        "            \"task\": \"Extrat the story details into a JSON.\",\n",
        "            \"output_scheme\": json.dumps( NewsDetails.model_json_schema(), ensure_ascii=False ),\n",
        "            \"response\": llm_resp_dic,\n",
        "        }, ensure_ascii=False, default=str)  + \"\\n\" )\n",
        "\n",
        "    ix+=1\n",
        "    prompt_tokens +=response.usage.prompt_tokens\n",
        "    completion_tokesn +=response.usage.completion_tokens\n",
        "\n",
        "\n",
        "    if (ix % 10) == 0:\n",
        "      cost_input =(prompt_tokens / 1_000_000) * price_per_1m_input_tokens\n",
        "      cost_output =(completion_tokesn / 1_000_000) * price_per_1m_output_tokens\n",
        "      total_cost = cost_input + cost_output\n",
        "      print(f\"Processed {ix} samples, Cost: ${total_cost:.4f}\")\n"
      ]
    },
    {
      "cell_type": "code",
      "execution_count": null,
      "metadata": {
        "id": "TQ1rFfjwUPY_"
      },
      "outputs": [],
      "source": [
        "save_to = join(data_dir, \"datasets\", \"sft.jsonl\")\n",
        "\n",
        "ix = 0\n",
        "for story in tqdm(raw_data):\n",
        "\n",
        "    for targeted_lang in [\"English\", \"French\"]:\n",
        "        sample_translation_messages = [\n",
        "            {\n",
        "                \"role\": \"system\",\n",
        "                \"content\": \"\\n\".join([\n",
        "                    \"You are a professional translator.\",\n",
        "                    \"You will be provided by an Arabic text.\",\n",
        "                    \"You have to translate the text into the `Targeted Language`.\",\n",
        "                    \"Follow the provided Scheme to generate a JSON\",\n",
        "                    \"Do not generate any introduction or conclusion.\"\n",
        "                ])\n",
        "            },\n",
        "            {\n",
        "                \"role\": \"user\",\n",
        "                \"content\": \"\\n\".join([\n",
        "                    \"## Pydantic Details:\",\n",
        "                    json.dumps( TranslatedStory.model_json_schema(), ensure_ascii=False ),\n",
        "                    \"\",\n",
        "\n",
        "                    \"## Targeted Language or Dialect:\",\n",
        "                    targeted_lang,\n",
        "                    \"\",\n",
        "\n",
        "                    \"## Story:\",\n",
        "                    story['content'].strip(),\n",
        "                    \"\",\n",
        "\n",
        "                    \"## Translated Story:\",\n",
        "                    \"```json\"\n",
        "                ])\n",
        "            }\n",
        "        ]\n",
        "\n",
        "        response = client.chat.completions.create(\n",
        "        model=cloud_model_Id,\n",
        "        messages=sample_translation_messages,\n",
        "        temperature=0.2,\n",
        "\n",
        "            )\n",
        "\n",
        "        if response.choices[0].finish_reason != \"stop\":\n",
        "            prompt_tokens += response.usage.prompt_tokens\n",
        "            continue\n",
        "\n",
        "        llm_response = response.choices[0].message.content\n",
        "        llm_resp_dict = parse_json(llm_response)\n",
        "\n",
        "        if not llm_resp_dict:\n",
        "            continue\n",
        "\n",
        "        with open(save_to, \"a\", encoding=\"utf8\") as dest:\n",
        "            dest.write(json.dumps({\n",
        "                \"id\": ix,\n",
        "                \"story\": story['content'].strip(),\n",
        "\n",
        "                \"output_scheme\": json.dumps( TranslatedStory.model_json_schema(), ensure_ascii=False ),\n",
        "                \"task\": f\"You have to translate the story content into {targeted_lang} associated with a title into a JSON.\",\n",
        "\n",
        "                \"response\": llm_resp_dict,\n",
        "            }, ensure_ascii=False, default=str)  + \"\\n\" )\n",
        "\n",
        "        ix += 1\n",
        "        prompt_tokens += response.usage.prompt_tokens\n",
        "        completion_tokens += response.usage.completion_tokens\n",
        "\n",
        "        if(ix % 3) == 0:\n",
        "            cost_input = (prompt_tokens / 1_000_000) * price_per_1m_input_tokens\n",
        "            cost_output = (completion_tokens / 1_000_000) * price_per_1m_output_tokens\n",
        "            total_cost = cost_input + cost_output\n",
        "\n",
        "            print(f\"Iteration {ix}: Total Cost = ${total_cost:.4f} \")"
      ]
    },
    {
      "cell_type": "markdown",
      "metadata": {
        "id": "OyUHLvBEc23Z"
      },
      "source": [
        "## Formate Fine-tuning Dataset"
      ]
    },
    {
      "cell_type": "code",
      "execution_count": null,
      "metadata": {
        "id": "QOvVmqCvc1US"
      },
      "outputs": [],
      "source": [
        "sft_data_path =join(data_dir,'Datasets','sft.jsonl')\n",
        "llm_finetuning_data=[]\n",
        "\n",
        "system_message = \"\\n\".join([\n",
        "    \"You are a professional NLP data parser.\",\n",
        "    \"Follow the provided `Task` by the user and the `Output Scheme` to generate the `Output JSON`.\",\n",
        "    \"Do not generate any introduction or conclusion.\"\n",
        "])\n",
        "\n",
        "for line in open(sft_data_path):\n",
        "  if line.strip() == \"\":\n",
        "    continue\n",
        "\n",
        "  rec =json.loads(line.strip())\n",
        "\n",
        "  llm_finetuning_data.append({\n",
        "      'system':system_message,\n",
        "      'instruction':'\\n'.join([\n",
        "          '# story',\n",
        "          rec['story'],\n",
        "\n",
        "          '# task',\n",
        "          rec['task'],\n",
        "\n",
        "          '#output_schema',\n",
        "          rec['output_scheme'],\n",
        "\n",
        "          '# output json',\n",
        "          \"```json\"\n",
        "\n",
        "          ''\n",
        "      ]),\n",
        "      'input':'',\n",
        "      'output':'\\n'.join([\n",
        "          '```json',\n",
        "          json.dumps(rec['response'],ensure_ascii=False ,default=str),\n",
        "          \"```\"\n",
        "      ]),\n",
        "      'history':[]\n",
        "    })\n",
        "\n",
        "\n",
        "random.Random(101).shuffle(llm_finetuning_data)"
      ]
    },
    {
      "cell_type": "code",
      "execution_count": null,
      "metadata": {
        "colab": {
          "base_uri": "https://localhost:8080/"
        },
        "id": "9H_PJxWtOuxC",
        "outputId": "90561942-7390-423c-b870-b97289a9ff6d"
      },
      "outputs": [
        {
          "data": {
            "text/plain": [
              "2766"
            ]
          },
          "execution_count": 34,
          "metadata": {},
          "output_type": "execute_result"
        }
      ],
      "source": [
        "len(llm_finetuning_data)"
      ]
    },
    {
      "cell_type": "code",
      "execution_count": null,
      "metadata": {
        "id": "_GXYElz0_7gv"
      },
      "outputs": [],
      "source": [
        "train_sample_sz= 2700\n",
        "\n",
        "train_ds =llm_finetuning_data[:train_sample_sz]\n",
        "valid_ds=llm_finetuning_data[train_sample_sz:]\n",
        "\n",
        "# create new folder\n",
        "os.makedirs(join(data_dir,'Datasets','LLaMaFactory-Finetuning-data'),exist_ok=True)\n",
        "\n",
        "with open(join(data_dir,'Datasets','LLaMaFactory-Finetuning-data','train.json'),'w') as dest:\n",
        "  json.dump(train_ds,dest,ensure_ascii=False,default=str)\n",
        "\n",
        "with open(join(data_dir,'Datasets','LLaMaFactory-Finetuning-data','valid.json'),'w',encoding='utf8') as dest:\n",
        "  json.dump(valid_ds,dest,ensure_ascii=False,default=str)\n"
      ]
    },
    {
      "cell_type": "code",
      "execution_count": null,
      "metadata": {
        "colab": {
          "base_uri": "https://localhost:8080/",
          "height": 35
        },
        "id": "iDdwTl6W1FK5",
        "outputId": "dce7ecc7-6638-48b0-d39a-2642ad581984"
      },
      "outputs": [
        {
          "data": {
            "application/vnd.google.colaboratory.intrinsic+json": {
              "type": "string"
            },
            "text/plain": [
              "'/gdrive/MyDrive/Fine-Tuning/datasets/llamafactory-finetune-data/val.json'"
            ]
          },
          "execution_count": 36,
          "metadata": {},
          "output_type": "execute_result"
        }
      ],
      "source": [
        "join(data_dir, \"datasets\", \"llamafactory-finetune-data\", \"val.json\")"
      ]
    },
    {
      "cell_type": "code",
      "execution_count": null,
      "metadata": {
        "id": "Pr7BEOoA2Jw4"
      },
      "outputs": [],
      "source": [
        "# # Configure LLaMA-Factory for the new datasets\n",
        "\n",
        "# # update /content/LLaMA-Factory/data/dataset_info.json and append\n",
        "# ```\n",
        "   \"news_finetune_train\": {\n",
        "        \"file_name\": \"/gdrive/MyDrive/Fine-Tuning/Datasets/LLaMaFactory-Finetuning-data/train.json\",\n",
        "        \"columns\": {\n",
        "            \"prompt\": \"instruction\",\n",
        "            \"query\": \"input\",\n",
        "            \"response\": \"output\",\n",
        "            \"system\": \"system\",\n",
        "            \"history\": \"history\"\n",
        "        }\n",
        "    },\n",
        "    \"news_finetune_val\": {\n",
        "        \"file_name\": \"/gdrive/MyDrive/Fine-Tuning/Datasets/LLaMaFactory-Finetuning-data/valid.json\",\n",
        "        \"columns\": {\n",
        "            \"prompt\": \"instruction\",\n",
        "            \"query\": \"input\",\n",
        "            \"response\": \"output\",\n",
        "            \"system\": \"system\",\n",
        "            \"history\": \"history\"\n",
        "        }\n",
        "    }\n",
        "# ```\n",
        "\n",
        "# https://wandb.ai/mr-bakrianoo/llamafactory/runs/apwbkni9\n",
        "# https://wandb.ai/mr-bakrianoo/llamafactory/runs/c5tf0q90"
      ]
    },
    {
      "cell_type": "code",
      "execution_count": null,
      "metadata": {
        "colab": {
          "base_uri": "https://localhost:8080/"
        },
        "id": "2p1KtNOywExy",
        "outputId": "aa6fe725-3422-4b8c-d711-9fc1fc00fe30"
      },
      "outputs": [
        {
          "name": "stdout",
          "output_type": "stream",
          "text": [
            "Overwriting /content/LLaMA-Factory/examples/train_lora/news_finetune.yaml\n"
          ]
        }
      ],
      "source": [
        "%%writefile /content/LLaMA-Factory/examples/train_lora/news_finetune.yaml\n",
        "### model\n",
        "model_name_or_path: Qwen/Qwen2.5-1.5B-Instruct\n",
        "trust_remote_code: true\n",
        "\n",
        "### method\n",
        "stage: sft\n",
        "do_train: true\n",
        "finetuning_type: lora\n",
        "lora_rank: 64\n",
        "lora_target: all\n",
        "\n",
        "### dataset\n",
        "dataset: news_finetune_train\n",
        "template: qwen\n",
        "cutoff_len: 3500\n",
        "max_samples: 550\n",
        "overwrite_cache: true\n",
        "preprocessing_num_workers: 16\n",
        "dataloader_num_workers: 4\n",
        "\n",
        "### output\n",
        "resume_from_checkpoint: /gdrive/MyDrive/Fine-Tuning/Datasets/LLaMaFactory-Finetuning-data/models/checkpoint-500\n",
        "output_dir: /gdrive/MyDrive/Fine-Tuning/Datasets/LLaMaFactory-Finetuning-data/models\n",
        "logging_steps: 10\n",
        "save_steps: 50\n",
        "plot_loss: true\n",
        "# overwrite_output_dir: true\n",
        "save_only_model: false\n",
        "\n",
        "### train\n",
        "per_device_train_batch_size: 1\n",
        "gradient_accumulation_steps: 8\n",
        "learning_rate: 1.0e-4\n",
        "num_train_epochs: 3.0\n",
        "lr_scheduler_type: cosine\n",
        "warmup_ratio: 0.1 # don not change learning rate for first 10 % from data\n",
        "bf16: true # store half of weights in memory\n",
        "ddp_timeout: 180000000\n",
        "resume_from_checkpoint: null\n",
        "\n",
        "### eval\n",
        "eval_dataset: news_finetune_val\n",
        "# val_size: 0.1\n",
        "per_device_eval_batch_size: 1\n",
        "eval_strategy: steps\n",
        "eval_steps: 100\n",
        "\n",
        "\n",
        "report_to: wandb\n",
        "run_name: news_finetuning_llamafactory\n",
        "\n",
        "# push_to_hub: true\n",
        "# export_hub_model_id : \"shroukAdel/news_analyzer\"\n",
        "# hub_private_repo: true\n",
        "# hub_strategy: checkpoint # update for every checkpoint\n"
      ]
    },
    {
      "cell_type": "code",
      "execution_count": null,
      "metadata": {
        "id": "OhAjILweZOzw"
      },
      "outputs": [],
      "source": [
        "!cd LLaMA-Factory && pip install -e .\n"
      ]
    },
    {
      "cell_type": "code",
      "execution_count": null,
      "metadata": {
        "id": "By_urE-OWV4x"
      },
      "outputs": [],
      "source": [
        "!cd LLaMA-Factory/ && llamafactory-cli train /content/LLaMA-Factory/examples/train_lora/news_finetune.yaml"
      ]
    },
    {
      "cell_type": "markdown",
      "metadata": {
        "id": "kSBoR-Fh14cU"
      },
      "source": [
        "### Evaluation"
      ]
    },
    {
      "cell_type": "code",
      "execution_count": null,
      "metadata": {
        "id": "RUhPQP1C4N1m"
      },
      "outputs": [],
      "source": [
        "model = AutoModelForCausalLM.from_pretrained(\n",
        "    base_model_Id,\n",
        "    device_map='auto',\n",
        "    torch_dtype=torch_dtype\n",
        "\n",
        ")\n",
        "tokenizer = AutoTokenizer.from_pretrained(\"Qwen/Qwen2.5-1.5B-Instruct\")"
      ]
    },
    {
      "cell_type": "code",
      "execution_count": null,
      "metadata": {
        "id": "zJfmqePK6HhH"
      },
      "outputs": [],
      "source": [
        "finetuned_model_id = \"/gdrive/MyDrive/Fine-Tuning/Datasets/LLaMaFactory-Finetuning-data/models\"\n",
        "model.load_adapter(finetuned_model_id)"
      ]
    },
    {
      "cell_type": "code",
      "execution_count": null,
      "metadata": {
        "id": "JcY5AWcY4204"
      },
      "outputs": [],
      "source": [
        "response =generate_response(Details_extraction_messages)"
      ]
    },
    {
      "cell_type": "code",
      "execution_count": null,
      "metadata": {
        "colab": {
          "base_uri": "https://localhost:8080/"
        },
        "id": "vPYzDpip5jgF",
        "outputId": "0d7c00c0-fc4d-479c-b644-983547ce5d44"
      },
      "outputs": [
        {
          "data": {
            "text/plain": [
              "{'story_title': 'تأثير العائلة في علاقات الأفراد بالمال',\n",
              " 'story_keywords': ['العائلة',\n",
              "  'علاقات المال',\n",
              "  'التاريخ المالي',\n",
              "  'الأصول',\n",
              "  'التربية'],\n",
              " 'story_summary': ['مجلة فوربس تشير إلى أهمية العائلة في تشكيل العلاقة بالمال.',\n",
              "  'العلاقات المالية تتأثر بمختلف النماذج الماليية مثل الاستكثار، استخدام المال، وإدارة المال.',\n",
              "  'التجارب الأسرية تحدد شخصيات مالية مختلفة لدى الأفراد.',\n",
              "  'الدراسة تقدم أدوات مثل مخطط الجينوم المالي لتقييم التأثيرات السلبية.',\n",
              "  'العائلات التي تعاني من نمط استهلاك مالي مفرط قد تواجه مشكلات نفسية.'],\n",
              " 'story_category': 'Economy',\n",
              " 'story_entity': [{'entity_value': 'فوربس', 'entity_type': 'organization'},\n",
              "  {'entity_value': 'شاين إنيت', 'entity_type': 'person-male'},\n",
              "  {'entity_value': 'رابطة العلاج المالي', 'entity_type': 'organization'},\n",
              "  {'entity_value': 'Money Genogram', 'entity_type': 'product'}]}"
            ]
          },
          "execution_count": 23,
          "metadata": {},
          "output_type": "execute_result"
        }
      ],
      "source": [
        "parse_json(response)"
      ]
    },
    {
      "cell_type": "code",
      "execution_count": null,
      "metadata": {
        "id": "qIThkC5P891j"
      },
      "outputs": [],
      "source": [
        "response=generate_response(translation_messages)"
      ]
    },
    {
      "cell_type": "code",
      "execution_count": null,
      "metadata": {
        "colab": {
          "base_uri": "https://localhost:8080/"
        },
        "id": "fTsS0UBX9Ja9",
        "outputId": "7786064c-ee00-48be-ae96-209cf32a92de"
      },
      "outputs": [
        {
          "data": {
            "text/plain": [
              "{'translation_titl': 'The Role of Family in Financial Relationships',\n",
              " 'translation_content': 'Forbes magazine reported that family plays a central role in shaping individuals\\' financial relationships, influenced by inherited financial behaviors across generations.\\n\\nThis report is based on research conducted by Professor Shane Einthoven on wealth management, explaining that each person has an individual finance profile determined by their interaction with money, which is directly affected by family upbringing and childhood experiences.\\n\\nThe three dimensions of our relationship with money\\nAccording to the study, there are three main dimensions that form our financial relationship:\\n\\nAcquisition (A): Individuals belonging to this dimension tend to view money as a commodity to be accumulated, considering wealth accumulation as a goal itself. The negative aspect of this behavior is the potential for it to lead to a love affair with wealth or vice versa, i.e., complete rejection of wealth accumulation as a source of corruption.\\n\\nUsage (U): These individuals see money as a means for enjoying life, linking its value to its ability to provide enjoyment and comfort. However, some may become addicted to spending, while others turn towards extreme frugality fearing the future.\\n\\nManagement (M): This group views money as a responsibility requiring careful planning. In some cases, it can turn into an obsessive compulsion over managing expenses, negatively impacting personal relationships.\\n\\nHow does family influence our financial relationship?\\nThe report indicates that family experiences play a crucial role in determining \"individual finance\" for each individual, for example, if one parent relies on money as a reward for good behavior, the child later adopts the same pattern in adulthood.\\nTo analyze these influences accurately, the Financial Therapy Association developed a tool called the Money Genome Map (Genogram), used to identify financial patterns within families.\\n\\nThis tool includes:\\n\\nFamily tree drawing.\\nClassification of family members according to the three dimensions of financial relationship (A, U, M).\\nDetermining whether each individual\\'s financial behavior is healthy (+) or unhealthy (-). For instance, if someone grew up in a family where they were accustomed to excessive spending, they may have a strong inclination to adopt the same pattern in their adult life, or the opposite, turning excessively strict as a self-defense mechanism.'}"
            ]
          },
          "execution_count": 26,
          "metadata": {},
          "output_type": "execute_result"
        }
      ],
      "source": [
        "parse_json(response)"
      ]
    },
    {
      "cell_type": "markdown",
      "metadata": {
        "id": "wNBlj2K49yud"
      },
      "source": [
        "#### Cost Estimation for the model after fintuned\n",
        "- Test model speed on generation"
      ]
    },
    {
      "cell_type": "code",
      "execution_count": null,
      "metadata": {
        "colab": {
          "base_uri": "https://localhost:8080/",
          "height": 36
        },
        "id": "G1DbRTXa9WY1",
        "outputId": "f84edb94-a41c-44f6-c5b8-239f5081dcc7"
      },
      "outputs": [
        {
          "data": {
            "application/vnd.google.colaboratory.intrinsic+json": {
              "type": "string"
            },
            "text/plain": [
              "'وباستثناء إختار سابق بكلا. يرتبط أسابيع يبق الأراضي. فشكّل السيء معاملة. تونس دارت لبولندا مشروط كرسي الآخر.'"
            ]
          },
          "execution_count": 32,
          "metadata": {},
          "output_type": "execute_result"
        }
      ],
      "source": [
        "from faker import Faker\n",
        "fake=Faker('ar')\n",
        "fake.text(max_nb_chars=random.randint(150,200))\n"
      ]
    },
    {
      "cell_type": "code",
      "execution_count": null,
      "metadata": {
        "colab": {
          "base_uri": "https://localhost:8080/",
          "height": 123,
          "referenced_widgets": [
            "77ed059fa8bc4f3bbbcd46800deedfa0",
            "2ab3164455464ca993629f412018f675",
            "93b7e73eca514ee7b279ebf3138637fc",
            "463d393e948b470ba4d8752c5a01170a",
            "94207f7222df4dc48726f9519c61cbf1",
            "d31904c9be6e4979a24b29ffb7f1b40d",
            "ce9df17aa51147999356fdbc0a562806",
            "4c3ffee202334180a7f3b348b151bd58",
            "f910b19e3b77490abd3c3b29dc2ba8f5",
            "c5ca6998cf244efeb57fc0d495ae31e0",
            "f91f440b4a68445197baac86c3b42fa3"
          ]
        },
        "id": "9arnhEHsAjQF",
        "outputId": "e628ed7e-b42c-47f9-8d81-2564dd573545"
      },
      "outputs": [],
      "source": [
        "from faker import Faker\n",
        "from  datetime import datetime\n",
        "fake=Faker('ar')\n",
        "\n",
        "input_tokens= 0\n",
        "output_tokens =0\n",
        "start_time =datetime.now()\n",
        "\n",
        "for i in tqdm(range(30)):\n",
        "  prompt = fake.text(max_nb_chars=random.randint(150,200))\n",
        "\n",
        "  messages=[\n",
        "  {\n",
        "      'role':'user',\n",
        "      'content':prompt\n",
        "  }\n",
        "  ]\n",
        "\n",
        "  response =generate_response(messages)\n",
        "\n",
        "  input_tokens +=len(tokenizer.apply_chat_template(messages))\n",
        "  output_tokens +=len(tokenizer.encode(response))\n",
        "\n",
        "\n",
        "total_time =(datetime.now()-start_time).total_seconds()\n",
        "\n",
        "print(f\"Total Time:{total_time} seconds\")\n",
        "print(f\"Input Tokens:{input_tokens}\")\n",
        "print(f\"Output Tokens:{output_tokens}\")\n",
        "print(f\"Total Tokens:{input_tokens+output_tokens}\")"
      ]
    },
    {
      "cell_type": "code",
      "execution_count": null,
      "metadata": {
        "colab": {
          "base_uri": "https://localhost:8080/"
        },
        "id": "5kbAMsKIHak3",
        "outputId": "00775328-7434-465d-d4a4-2a2e9b01713d"
      },
      "outputs": [
        {
          "data": {
            "text/plain": [
              "22.251223491027734"
            ]
          },
          "execution_count": 43,
          "metadata": {},
          "output_type": "execute_result"
        }
      ],
      "source": [
        "13640 /613  # generate 22 token per second"
      ]
    },
    {
      "cell_type": "markdown",
      "metadata": {
        "id": "7sdx1eqjT5WJ"
      },
      "source": [
        "## vLLM"
      ]
    },
    {
      "cell_type": "code",
      "execution_count": null,
      "metadata": {
        "id": "5QiIXTP3PFsb"
      },
      "outputs": [],
      "source": [
        "base_model_Id ='Qwen/Qwen2.5-1.5B-Instruct'\n",
        "lora_model_Id =\"/gdrive/MyDrive/Fine-Tuning/Datasets/LLaMaFactory-Finetuning-data/models\"\n",
        "\n",
        "!nohup vllm serve \"{base_model_Id}\" --dtype=half --gpu-memory-utilization 0.8 --max-lora-rank 64 --enable-lora --lora-modules news-lora=\"{lora_model_Id}\" &"
      ]
    },
    {
      "cell_type": "code",
      "execution_count": null,
      "metadata": {
        "colab": {
          "base_uri": "https://localhost:8080/"
        },
        "id": "FNbaUZdDvtE3",
        "outputId": "bb2b86c0-7396-40fa-c544-a642326feec3"
      },
      "outputs": [
        {
          "name": "stdout",
          "output_type": "stream",
          "text": [
            "tail: cannot open 'nohup.out' for reading: No such file or directory\n"
          ]
        }
      ],
      "source": [
        "!tail -n 30 nohup.out"
      ]
    },
    {
      "cell_type": "markdown",
      "metadata": {
        "id": "xpPShNEg10gr"
      },
      "source": [
        "### Inference"
      ]
    },
    {
      "cell_type": "code",
      "execution_count": null,
      "metadata": {
        "colab": {
          "base_uri": "https://localhost:8080/",
          "height": 277
        },
        "id": "QaHSOVwnwsUD",
        "outputId": "24d71103-0438-4cf0-bc1f-770bc6393c13"
      },
      "outputs": [
        {
          "name": "stderr",
          "output_type": "stream",
          "text": [
            "/usr/local/lib/python3.11/dist-packages/huggingface_hub/utils/_auth.py:94: UserWarning: \n",
            "The secret `HF_TOKEN` does not exist in your Colab secrets.\n",
            "To authenticate with the Hugging Face Hub, create a token in your settings tab (https://huggingface.co/settings/tokens), set it as secret in your Google Colab and restart your session.\n",
            "You will be able to reuse this secret in all of your notebooks.\n",
            "Please note that authentication is recommended but still optional to access public models or datasets.\n",
            "  warnings.warn(\n"
          ]
        },
        {
          "data": {
            "application/vnd.google.colaboratory.intrinsic+json": {
              "type": "string"
            },
            "text/plain": [
              "'<|im_start|>system\\nyou are a professional translator\\ntranslate story for the target language\\ndo not generate any introduction or conclusion\\nfollow the provided schema to generate json<|im_end|>\\n<|im_start|>user\\n## Story:\\nذكرت مجلة فوربس أن العائلة تلعب دورا محوريا في تشكيل علاقة الأفراد بالمال،\\n حيث تتأثر هذه العلاقة بأنماط السلوك المالي المتوارثة عبر الأجيال.\\n\\nالتقرير الذي يستند إلى أبحاث الأستاذ الجامعي شاين إنيت حول\\nالرفاه المالي يوضح أن لكل شخص \"شخصية مالية\" تتحدد وفقا لطريقة\\n تفاعله مع المال، والتي تتأثر بشكل مباشر بتربية الأسرة وتجارب الطفولة.\\n\\n الأبعاد الثلاثة للعلاقة بالمال\\nبحسب الدراسة، هناك ثلاثة أبعاد رئيسية تشكّل علاقتنا بالمال:\\n\\nالاكتساب (A): يميل الأفراد الذين ينتمون لهذا\\n البعد إلى اعتبار المال سلعة قابلة للجمع، حيث يرون\\nفي تحقيق الثروة هدفا بحد ذاته. والجانب السلبي لهذا\\n النمط هو إمكانية التحول إلى هوس بالثروة أو العكس،\\n أي رفض تام لاكتساب المال باعتباره مصدرا للفساد.\\n\\nالاستخدام (U): يرى هؤلاء الأشخاص المال أداة للتمتع بالحياة، حيث يربطون قيمته بقدرته على توفير\\nالمتعة والراحة. ومع ذلك، قد يصبح\\nالبعض مدمنا على الإنفاق، في حين يتجه آخرون إلى التقشف المفرط خوفا من المستقبل.\\n\\nالإدارة (M): أصحاب هذا النمط يعتبرون المال مسؤولية تتطلب التخطيط الدقيق. لكن في بعض الحالات،\\n قد يتحول الأمر إلى هوس مفرط بإدارة الإنفاق، مما يؤثر سلبا على العلاقات الشخصية.\\n\\n كيف تؤثر العائلة على علاقتنا بالمال؟\\nيشير التقرير إلى أن التجارب الأسرية تلعب دورا رئيسيا في تحديد\\n \"الشخصية المالية\" لكل فرد، على سبيل المثال، إذا كان أحد الوالدين يعتمد على المال\\nكمكافأة للسلوك الجيد، فقد يتبنى الطفل لاحقا النمط نفسه في حياته البالغة.\\n\\nلتحليل هذه التأثيرات بشكل دقيق، طورت رابطة العلاج المالي\\n(Financial Therapy Association) أداة تسمى مخطط الجينوم المالي (Money Genogram)،\\nوهو نموذج يُستخدم لتحديد الأنماط المالية داخل العائلة.\\n\\nتتضمن هذه الأداة:\\n\\nرسم شجرة عائلية.\\nتصنيف أفراد العائلة وفقا للأبعاد الثلاثة للعلاقة بالمال (A ،U ،M).\\nتحديد ما إذا كان السلوك المالي لكل فرد صحيا (+) أو غير صحي (-).\\nعلى سبيل المثال، إذا نشأ شخص في عائلة\\nاعتادت على الإنفاق المفرط، فقد يكون لديه ميل قوي إلى اتباع النمط نفسه،\\n أو العكس تماما، حيث يصبح مقتصدا بشكل مبالغ فيه كرد فعل نفسي.\\n\\nthe pydantic details:\\n{\"properties\": {\"translation_titl\": {\"Description\": \"genrate title for the translated story\", \"minLength\": 5, \"title\": \"Translation Titl\", \"type\": \"string\"}, \"translation_content\": {\"Desciption\": \"Tranlated Content for the new Story \", \"min_lenght\": 5, \"title\": \"Translation Content\", \"type\": \"string\"}}, \"required\": [\"translation_titl\", \"translation_content\"], \"title\": \"TranslatedStory\", \"type\": \"object\"}\\n\\nTarget language:\\nEnglish<|im_end|>\\n<|im_start|>assistant\\n'"
            ]
          },
          "execution_count": 19,
          "metadata": {},
          "output_type": "execute_result"
        }
      ],
      "source": [
        "tokenizer = AutoTokenizer.from_pretrained(\"Qwen/Qwen2.5-1.5B-Instruct\")\n",
        "prompt =tokenizer.apply_chat_template(translation_messages,\n",
        "                                      tokenize=False,\n",
        "                                      add_generation_prompt=True)\n",
        "prompt"
      ]
    },
    {
      "cell_type": "code",
      "execution_count": null,
      "metadata": {
        "colab": {
          "base_uri": "https://localhost:8080/",
          "height": 183
        },
        "id": "HDh458Y92Y3_",
        "outputId": "74e99d21-f01f-46bd-9b88-7bad284dee0c"
      },
      "outputs": [
        {
          "data": {
            "application/vnd.google.colaboratory.intrinsic+json": {
              "type": "string"
            },
            "text/plain": [
              "'{\"id\":\"cmpl-bae13276e7974f1e956111353610ca80\",\"object\":\"text_completion\",\"created\":1747832275,\"model\":\"news-lora\",\"choices\":[{\"index\":0,\"text\":\"```json\\\\n{\\\\\"translation_titl\\\\\": \\\\\"The Role of Family in Financial Relationships\\\\\", \\\\\"translation_content\\\\\": \\\\\"Forbes magazine reported that the family plays a crucial role in shaping individuals\\' financial relationships, as these relationships are influenced by inherited financial behaviors across generations.\\\\\\\\n\\\\\\\\nThe report, based on research by Professor Shane Enye on financial well-being, explains that each person has a \\\\\"financial personality\\\\\" determined by their interaction with money, which is directly affected by family upbringing and childhood experiences.\\\\\\\\n\\\\\\\\nThe three dimensions of the financial relationship\\\\\\\\nAccording to the study, there are three main dimensions that form our financial relationship:\\\\\\\\n\\\\\\\\nA: Individuals belonging to this dimension tend to view money as a commodity to be accumulated, seeing wealth accumulation as a goal in itself. This aspect can lead to a tendency towards a love for wealth or the opposite, i.e., complete rejection of wealth accumulation as a means of corruption.\\\\\\\\n\\\\\\\\nU: These individuals view money as a tool for enjoying life, linking its value to its ability to provide enjoyment and comfort. However, some may become addicted to spending, while others may turn to extreme frugality in fear of the future.\\\\\\\\n\\\\\\\\nM: Individuals of this type consider money as a responsibility that requires careful planning. In some cases, this may turn into an obsessive concern with managing expenses, which negatively affects personal relationships.\\\\\\\\n\\\\\\\\nHow does family influence our financial relationship?\\\\\\\\nThe report indicates that family experiences play a crucial role in determining the \\\\\"financial personality\\\\\" of each individual, for example, if one parent relies on money as a reward for good behavior, the child may later adopt the same pattern in their adult life.\\\\\\\\n\\\\\\\\nTo analyze these influences accurately, the Financial Therapy Association developed a tool called the Money Genogram (Genogram of Money), which is used to identify financial patterns within the family.\\\\\\\\n\\\\\\\\nThis tool includes:\\\\\\\\n\\\\\\\\nA family tree diagram.\\\\\\\\nClassification of family members according to the three dimensions of the financial relationship (A, U, M).\\\\\\\\nDetermining whether the financial behavior of each individual is healthy (+) or unhealthy (-).\\\\\\\\nFor example, if a person grew up in a family that encouraged excessive spending, they may have a strong tendency to adopt the same pattern, or the opposite, where they become excessively frugal as a psychological response.\\\\\"}\\\\n```\",\"logprobs\":null,\"finish_reason\":\"stop\",\"stop_reason\":null,\"prompt_logprobs\":null}],\"usage\":{\"prompt_tokens\":845,\"total_tokens\":1316,\"completion_tokens\":471,\"prompt_tokens_details\":null}}'"
            ]
          },
          "execution_count": 36,
          "metadata": {},
          "output_type": "execute_result"
        }
      ],
      "source": [
        "vllm_model_id='news-lora'\n",
        "\n",
        "llm_response=requests.post(\"http://localhost:8000/v1/completions\",json={\n",
        "    'model':vllm_model_id,\n",
        "    'prompt':prompt,\n",
        "    'max_tokens':1000,\n",
        "    'temperature':0.3\n",
        "})\n",
        "\n",
        "llm_response.text"
      ]
    },
    {
      "cell_type": "code",
      "execution_count": null,
      "metadata": {
        "colab": {
          "base_uri": "https://localhost:8080/"
        },
        "id": "MuzCHzfN7Mlp",
        "outputId": "4304efa3-d118-4c21-b868-9aa1132dad2d"
      },
      "outputs": [
        {
          "data": {
            "text/plain": [
              "{'id': 'cmpl-bae13276e7974f1e956111353610ca80',\n",
              " 'object': 'text_completion',\n",
              " 'created': 1747832275,\n",
              " 'model': 'news-lora',\n",
              " 'choices': [{'index': 0,\n",
              "   'text': '```json\\n{\"translation_titl\": \"The Role of Family in Financial Relationships\", \"translation_content\": \"Forbes magazine reported that the family plays a crucial role in shaping individuals\\' financial relationships, as these relationships are influenced by inherited financial behaviors across generations.\\\\n\\\\nThe report, based on research by Professor Shane Enye on financial well-being, explains that each person has a \"financial personality\" determined by their interaction with money, which is directly affected by family upbringing and childhood experiences.\\\\n\\\\nThe three dimensions of the financial relationship\\\\nAccording to the study, there are three main dimensions that form our financial relationship:\\\\n\\\\nA: Individuals belonging to this dimension tend to view money as a commodity to be accumulated, seeing wealth accumulation as a goal in itself. This aspect can lead to a tendency towards a love for wealth or the opposite, i.e., complete rejection of wealth accumulation as a means of corruption.\\\\n\\\\nU: These individuals view money as a tool for enjoying life, linking its value to its ability to provide enjoyment and comfort. However, some may become addicted to spending, while others may turn to extreme frugality in fear of the future.\\\\n\\\\nM: Individuals of this type consider money as a responsibility that requires careful planning. In some cases, this may turn into an obsessive concern with managing expenses, which negatively affects personal relationships.\\\\n\\\\nHow does family influence our financial relationship?\\\\nThe report indicates that family experiences play a crucial role in determining the \"financial personality\" of each individual, for example, if one parent relies on money as a reward for good behavior, the child may later adopt the same pattern in their adult life.\\\\n\\\\nTo analyze these influences accurately, the Financial Therapy Association developed a tool called the Money Genogram (Genogram of Money), which is used to identify financial patterns within the family.\\\\n\\\\nThis tool includes:\\\\n\\\\nA family tree diagram.\\\\nClassification of family members according to the three dimensions of the financial relationship (A, U, M).\\\\nDetermining whether the financial behavior of each individual is healthy (+) or unhealthy (-).\\\\nFor example, if a person grew up in a family that encouraged excessive spending, they may have a strong tendency to adopt the same pattern, or the opposite, where they become excessively frugal as a psychological response.\"}\\n```',\n",
              "   'logprobs': None,\n",
              "   'finish_reason': 'stop',\n",
              "   'stop_reason': None,\n",
              "   'prompt_logprobs': None}],\n",
              " 'usage': {'prompt_tokens': 845,\n",
              "  'total_tokens': 1316,\n",
              "  'completion_tokens': 471,\n",
              "  'prompt_tokens_details': None}}"
            ]
          },
          "execution_count": 37,
          "metadata": {},
          "output_type": "execute_result"
        }
      ],
      "source": [
        "llm_response.json()"
      ]
    },
    {
      "cell_type": "markdown",
      "metadata": {
        "id": "wKkJqcdN5iCY"
      },
      "source": [
        "### Load Testing"
      ]
    },
    {
      "cell_type": "code",
      "execution_count": null,
      "metadata": {
        "colab": {
          "base_uri": "https://localhost:8080/"
        },
        "id": "aX7knBPz5jqQ",
        "outputId": "9b078cda-2641-44f9-ac83-8773a84dbc70"
      },
      "outputs": [
        {
          "name": "stdout",
          "output_type": "stream",
          "text": [
            "Overwriting locust.py\n"
          ]
        }
      ],
      "source": [
        "%%writefile locust.py\n",
        "import random\n",
        "import json\n",
        "from locust import HttpUser,task,between,constant\n",
        "from transformers import AutoTokenizer\n",
        "from faker import Faker\n",
        "\n",
        "faker=Faker('ar')\n",
        "\n",
        "class completionLoadTest(HttpUser):\n",
        "  wait_time =between(1,3)\n",
        "\n",
        "  @task\n",
        "  def post_completeion(self):\n",
        "    model_id='news-lora'\n",
        "    prompt =faker.text(max_nb_chars=random.randint(150,200))\n",
        "\n",
        "    message={'model':model_id,\n",
        "    'prompt':prompt,\n",
        "    'max_tokens':512,\n",
        "    'temperature':0.3\n",
        "    }\n",
        "\n",
        "    llm_response=self.client.post(\"/v1/completions\",json= message)\n",
        "\n",
        "    if llm_response.status_code ==200:\n",
        "      with open('./vllm_token_.text','a') as dest:\n",
        "        dest.write(json.dumps({\n",
        "            \"prompt\":prompt,\n",
        "            'resposne':llm_response.json()[\"choices\"][0][\"text\"]\n",
        "        },ensure_ascii=False )+\"\\n\")"
      ]
    },
    {
      "cell_type": "code",
      "execution_count": null,
      "metadata": {
        "id": "cuuoX_Ql8iXV"
      },
      "outputs": [],
      "source": [
        "!locust --headless -f locust.py --host=http://localhost:8000 -u 20 -r 1 -t \"60s\" --html=locust_result.html"
      ]
    }
  ],
  "metadata": {
    "accelerator": "GPU",
    "colab": {
      "gpuType": "T4",
      "provenance": []
    },
    "kernelspec": {
      "display_name": "Python 3",
      "name": "python3"
    },
    "language_info": {
      "name": "python"
    },
    "widgets": {
      "application/vnd.jupyter.widget-state+json": {
        "2ab3164455464ca993629f412018f675": {
          "model_module": "@jupyter-widgets/controls",
          "model_module_version": "1.5.0",
          "model_name": "HTMLModel",
          "state": {
            "_dom_classes": [],
            "_model_module": "@jupyter-widgets/controls",
            "_model_module_version": "1.5.0",
            "_model_name": "HTMLModel",
            "_view_count": null,
            "_view_module": "@jupyter-widgets/controls",
            "_view_module_version": "1.5.0",
            "_view_name": "HTMLView",
            "description": "",
            "description_tooltip": null,
            "layout": "IPY_MODEL_d31904c9be6e4979a24b29ffb7f1b40d",
            "placeholder": "​",
            "style": "IPY_MODEL_ce9df17aa51147999356fdbc0a562806",
            "value": "100%"
          }
        },
        "463d393e948b470ba4d8752c5a01170a": {
          "model_module": "@jupyter-widgets/controls",
          "model_module_version": "1.5.0",
          "model_name": "HTMLModel",
          "state": {
            "_dom_classes": [],
            "_model_module": "@jupyter-widgets/controls",
            "_model_module_version": "1.5.0",
            "_model_name": "HTMLModel",
            "_view_count": null,
            "_view_module": "@jupyter-widgets/controls",
            "_view_module_version": "1.5.0",
            "_view_name": "HTMLView",
            "description": "",
            "description_tooltip": null,
            "layout": "IPY_MODEL_c5ca6998cf244efeb57fc0d495ae31e0",
            "placeholder": "​",
            "style": "IPY_MODEL_f91f440b4a68445197baac86c3b42fa3",
            "value": " 30/30 [10:13&lt;00:00, 25.59s/it]"
          }
        },
        "4c3ffee202334180a7f3b348b151bd58": {
          "model_module": "@jupyter-widgets/base",
          "model_module_version": "1.2.0",
          "model_name": "LayoutModel",
          "state": {
            "_model_module": "@jupyter-widgets/base",
            "_model_module_version": "1.2.0",
            "_model_name": "LayoutModel",
            "_view_count": null,
            "_view_module": "@jupyter-widgets/base",
            "_view_module_version": "1.2.0",
            "_view_name": "LayoutView",
            "align_content": null,
            "align_items": null,
            "align_self": null,
            "border": null,
            "bottom": null,
            "display": null,
            "flex": null,
            "flex_flow": null,
            "grid_area": null,
            "grid_auto_columns": null,
            "grid_auto_flow": null,
            "grid_auto_rows": null,
            "grid_column": null,
            "grid_gap": null,
            "grid_row": null,
            "grid_template_areas": null,
            "grid_template_columns": null,
            "grid_template_rows": null,
            "height": null,
            "justify_content": null,
            "justify_items": null,
            "left": null,
            "margin": null,
            "max_height": null,
            "max_width": null,
            "min_height": null,
            "min_width": null,
            "object_fit": null,
            "object_position": null,
            "order": null,
            "overflow": null,
            "overflow_x": null,
            "overflow_y": null,
            "padding": null,
            "right": null,
            "top": null,
            "visibility": null,
            "width": null
          }
        },
        "77ed059fa8bc4f3bbbcd46800deedfa0": {
          "model_module": "@jupyter-widgets/controls",
          "model_module_version": "1.5.0",
          "model_name": "HBoxModel",
          "state": {
            "_dom_classes": [],
            "_model_module": "@jupyter-widgets/controls",
            "_model_module_version": "1.5.0",
            "_model_name": "HBoxModel",
            "_view_count": null,
            "_view_module": "@jupyter-widgets/controls",
            "_view_module_version": "1.5.0",
            "_view_name": "HBoxView",
            "box_style": "",
            "children": [
              "IPY_MODEL_2ab3164455464ca993629f412018f675",
              "IPY_MODEL_93b7e73eca514ee7b279ebf3138637fc",
              "IPY_MODEL_463d393e948b470ba4d8752c5a01170a"
            ],
            "layout": "IPY_MODEL_94207f7222df4dc48726f9519c61cbf1"
          }
        },
        "93b7e73eca514ee7b279ebf3138637fc": {
          "model_module": "@jupyter-widgets/controls",
          "model_module_version": "1.5.0",
          "model_name": "FloatProgressModel",
          "state": {
            "_dom_classes": [],
            "_model_module": "@jupyter-widgets/controls",
            "_model_module_version": "1.5.0",
            "_model_name": "FloatProgressModel",
            "_view_count": null,
            "_view_module": "@jupyter-widgets/controls",
            "_view_module_version": "1.5.0",
            "_view_name": "ProgressView",
            "bar_style": "success",
            "description": "",
            "description_tooltip": null,
            "layout": "IPY_MODEL_4c3ffee202334180a7f3b348b151bd58",
            "max": 30,
            "min": 0,
            "orientation": "horizontal",
            "style": "IPY_MODEL_f910b19e3b77490abd3c3b29dc2ba8f5",
            "value": 30
          }
        },
        "94207f7222df4dc48726f9519c61cbf1": {
          "model_module": "@jupyter-widgets/base",
          "model_module_version": "1.2.0",
          "model_name": "LayoutModel",
          "state": {
            "_model_module": "@jupyter-widgets/base",
            "_model_module_version": "1.2.0",
            "_model_name": "LayoutModel",
            "_view_count": null,
            "_view_module": "@jupyter-widgets/base",
            "_view_module_version": "1.2.0",
            "_view_name": "LayoutView",
            "align_content": null,
            "align_items": null,
            "align_self": null,
            "border": null,
            "bottom": null,
            "display": null,
            "flex": null,
            "flex_flow": null,
            "grid_area": null,
            "grid_auto_columns": null,
            "grid_auto_flow": null,
            "grid_auto_rows": null,
            "grid_column": null,
            "grid_gap": null,
            "grid_row": null,
            "grid_template_areas": null,
            "grid_template_columns": null,
            "grid_template_rows": null,
            "height": null,
            "justify_content": null,
            "justify_items": null,
            "left": null,
            "margin": null,
            "max_height": null,
            "max_width": null,
            "min_height": null,
            "min_width": null,
            "object_fit": null,
            "object_position": null,
            "order": null,
            "overflow": null,
            "overflow_x": null,
            "overflow_y": null,
            "padding": null,
            "right": null,
            "top": null,
            "visibility": null,
            "width": null
          }
        },
        "c5ca6998cf244efeb57fc0d495ae31e0": {
          "model_module": "@jupyter-widgets/base",
          "model_module_version": "1.2.0",
          "model_name": "LayoutModel",
          "state": {
            "_model_module": "@jupyter-widgets/base",
            "_model_module_version": "1.2.0",
            "_model_name": "LayoutModel",
            "_view_count": null,
            "_view_module": "@jupyter-widgets/base",
            "_view_module_version": "1.2.0",
            "_view_name": "LayoutView",
            "align_content": null,
            "align_items": null,
            "align_self": null,
            "border": null,
            "bottom": null,
            "display": null,
            "flex": null,
            "flex_flow": null,
            "grid_area": null,
            "grid_auto_columns": null,
            "grid_auto_flow": null,
            "grid_auto_rows": null,
            "grid_column": null,
            "grid_gap": null,
            "grid_row": null,
            "grid_template_areas": null,
            "grid_template_columns": null,
            "grid_template_rows": null,
            "height": null,
            "justify_content": null,
            "justify_items": null,
            "left": null,
            "margin": null,
            "max_height": null,
            "max_width": null,
            "min_height": null,
            "min_width": null,
            "object_fit": null,
            "object_position": null,
            "order": null,
            "overflow": null,
            "overflow_x": null,
            "overflow_y": null,
            "padding": null,
            "right": null,
            "top": null,
            "visibility": null,
            "width": null
          }
        },
        "ce9df17aa51147999356fdbc0a562806": {
          "model_module": "@jupyter-widgets/controls",
          "model_module_version": "1.5.0",
          "model_name": "DescriptionStyleModel",
          "state": {
            "_model_module": "@jupyter-widgets/controls",
            "_model_module_version": "1.5.0",
            "_model_name": "DescriptionStyleModel",
            "_view_count": null,
            "_view_module": "@jupyter-widgets/base",
            "_view_module_version": "1.2.0",
            "_view_name": "StyleView",
            "description_width": ""
          }
        },
        "d31904c9be6e4979a24b29ffb7f1b40d": {
          "model_module": "@jupyter-widgets/base",
          "model_module_version": "1.2.0",
          "model_name": "LayoutModel",
          "state": {
            "_model_module": "@jupyter-widgets/base",
            "_model_module_version": "1.2.0",
            "_model_name": "LayoutModel",
            "_view_count": null,
            "_view_module": "@jupyter-widgets/base",
            "_view_module_version": "1.2.0",
            "_view_name": "LayoutView",
            "align_content": null,
            "align_items": null,
            "align_self": null,
            "border": null,
            "bottom": null,
            "display": null,
            "flex": null,
            "flex_flow": null,
            "grid_area": null,
            "grid_auto_columns": null,
            "grid_auto_flow": null,
            "grid_auto_rows": null,
            "grid_column": null,
            "grid_gap": null,
            "grid_row": null,
            "grid_template_areas": null,
            "grid_template_columns": null,
            "grid_template_rows": null,
            "height": null,
            "justify_content": null,
            "justify_items": null,
            "left": null,
            "margin": null,
            "max_height": null,
            "max_width": null,
            "min_height": null,
            "min_width": null,
            "object_fit": null,
            "object_position": null,
            "order": null,
            "overflow": null,
            "overflow_x": null,
            "overflow_y": null,
            "padding": null,
            "right": null,
            "top": null,
            "visibility": null,
            "width": null
          }
        },
        "f910b19e3b77490abd3c3b29dc2ba8f5": {
          "model_module": "@jupyter-widgets/controls",
          "model_module_version": "1.5.0",
          "model_name": "ProgressStyleModel",
          "state": {
            "_model_module": "@jupyter-widgets/controls",
            "_model_module_version": "1.5.0",
            "_model_name": "ProgressStyleModel",
            "_view_count": null,
            "_view_module": "@jupyter-widgets/base",
            "_view_module_version": "1.2.0",
            "_view_name": "StyleView",
            "bar_color": null,
            "description_width": ""
          }
        },
        "f91f440b4a68445197baac86c3b42fa3": {
          "model_module": "@jupyter-widgets/controls",
          "model_module_version": "1.5.0",
          "model_name": "DescriptionStyleModel",
          "state": {
            "_model_module": "@jupyter-widgets/controls",
            "_model_module_version": "1.5.0",
            "_model_name": "DescriptionStyleModel",
            "_view_count": null,
            "_view_module": "@jupyter-widgets/base",
            "_view_module_version": "1.2.0",
            "_view_name": "StyleView",
            "description_width": ""
          }
        }
      }
    }
  },
  "nbformat": 4,
  "nbformat_minor": 0
}
